{
 "cells": [
  {
   "cell_type": "code",
   "execution_count": 2,
   "id": "a1b27050",
   "metadata": {},
   "outputs": [
    {
     "data": {
      "text/plain": [
       "True"
      ]
     },
     "execution_count": 2,
     "metadata": {},
     "output_type": "execute_result"
    }
   ],
   "source": [
    "p = 0xFFFFFFFFFFFFFFFFFFFFFFFFFFFFFFFFFFFFFFFFFFFFFFFFFFFFFFFEFFFFFC2F\n",
    "a = 0x0000000000000000000000000000000000000000000000000000000000000000\n",
    "b = 0x0000000000000000000000000000000000000000000000000000000000000007\n",
    "Gx = 0x79BE667EF9DCBBAC55A06295CE870B07029BFCDB2DCE28D959F2815B16F81798\n",
    "Gy = 0x483ADA7726A3C4655DA4FBFC0E1108A8FD17B448A68554199C47D08FFB10D4B8\n",
    "ord_ = 0xFFFFFFFFFFFFFFFFFFFFFFFFFFFFFFFEBAAEDCE6AF48A03BBFD25E8CD0364141\n",
    "\n",
    "E = EllipticCurve(Zmod(p), [a, b])\n",
    "G = E(Gx, Gy)\n",
    "#Satoshi's pri_key\n",
    "d = randint(1, ord_-1)\n",
    "P = d*G\n",
    "\n",
    "#ecdsa\n",
    "#sig: s = k^(-1)*(e+d*r)\n",
    "#ver: s^(-1)*e*G+s^(-1)*r*P == R\n",
    "\n",
    "#forge\n",
    "u, v = randint(1, ord_-1), randint(1, ord_-1)\n",
    "R = u*G+v*P\n",
    "r = ZZ(R.xy()[0])\n",
    "s = r*inverse_mod(v, ord_)\n",
    "e = s*u%ord_\n",
    "\n",
    "def ver(R, s, e):\n",
    "    if inverse_mod(s, ord_)*e*G+inverse_mod(s, ord_)*ZZ(R.xy()[0])*P == R:\n",
    "        return True\n",
    "    return False\n",
    "\n",
    "ver(R, s, e)"
   ]
  },
  {
   "cell_type": "code",
   "execution_count": null,
   "id": "633d44da",
   "metadata": {},
   "outputs": [],
   "source": []
  }
 ],
 "metadata": {
  "kernelspec": {
   "display_name": "SageMath 10.0",
   "language": "sage",
   "name": "sagemath-10.0"
  },
  "language_info": {
   "codemirror_mode": {
    "name": "ipython",
    "version": 3
   },
   "file_extension": ".py",
   "mimetype": "text/x-python",
   "name": "python",
   "nbconvert_exporter": "python",
   "pygments_lexer": "ipython3",
   "version": "3.11.1"
  }
 },
 "nbformat": 4,
 "nbformat_minor": 5
}
