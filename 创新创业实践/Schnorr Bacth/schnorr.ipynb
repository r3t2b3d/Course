{
 "cells": [
  {
   "cell_type": "code",
   "execution_count": 50,
   "id": "1f431281",
   "metadata": {},
   "outputs": [
    {
     "name": "stdout",
     "output_type": "stream",
     "text": [
      "True\n"
     ]
    }
   ],
   "source": [
    "from hashlib import sha256\n",
    "\n",
    "q = 0xFFFFFFFEFFFFFFFFFFFFFFFFFFFFFFFFFFFFFFFF00000000FFFFFFFFFFFFFFFF \n",
    "a = 0xFFFFFFFEFFFFFFFFFFFFFFFFFFFFFFFFFFFFFFFF00000000FFFFFFFFFFFFFFFC \n",
    "b = 0x28E9FA9E9D9F5E344D5A9E4BCF6509A7F39789F515AB8F92DDBCBD414D940E93\n",
    "Gx= 0x32C4AE2C1F1981195F9904466A39C9948FE30BBFF2660BE1715A4589334C74C7 \n",
    "Gy= 0xBC3736A2F4F6779C59BDCEE36B692153D0A9877CC62A474002DF32E52139F0A0\n",
    "\n",
    "E = EllipticCurve(Zmod(q), [a, b])\n",
    "G = E(Gx, Gy)\n",
    "ord_ = E.order()\n",
    "\n",
    "\n",
    "def Agg(sig):\n",
    "    R = E(0)\n",
    "    s = 0\n",
    "    for item in sig:\n",
    "        R += item[0]\n",
    "        s += item[1]\n",
    "    return (R, s%ord_)\n",
    "\n",
    "\n",
    "def KAgg(pk):\n",
    "    strx = ''\n",
    "    for X in pk:\n",
    "        strx += str(X)\n",
    "    L = sha256(strx.encode()).digest()\n",
    "    res = E(0)\n",
    "    for X in pk:\n",
    "        res += int(sha256(L+str(X).encode()).hexdigest(), 16)*X\n",
    "    return res\n",
    "\n",
    "\n",
    "def multi_schnorr_sign(R_l, X_l, sk, r, m, idx):\n",
    "    R = E(0)\n",
    "    for R_ in R_l:\n",
    "        R += R_\n",
    "    strx = ''\n",
    "    for X_ in X_l:\n",
    "        strx += str(X_)\n",
    "    L = sha256(strx.encode()).digest()\n",
    "    X = E(0)\n",
    "    for X_ in X_l:\n",
    "        X += int(sha256(L+str(X_).encode()).hexdigest(), 16)*X_\n",
    "\n",
    "    s = r+int(sha256(str(X).encode()+str(R).encode()+m.encode()).hexdigest(), 16)\\\n",
    "    *int(sha256(L+str(X_l[idx]).encode()).hexdigest(), 16)*sk\n",
    "    return (R_l[idx], s%ord_)\n",
    "\n",
    "def multi_schnorr_verify(sig, pk, m):\n",
    "    if sig[1]*G == sig[0]+int(sha256(str(pk).encode()+ \\\n",
    "                                 str(sig[0]).encode()+m.encode()).hexdigest(), 16)*pk:\n",
    "        return True\n",
    "    return False\n",
    "\n",
    "def test():\n",
    "    msg = 'hash_hash'\n",
    "    n = 2\n",
    "    all_x = [randint(1, ord_-1) for _ in range(n)]\n",
    "    all_X = [x*G for x in all_x]\n",
    "    all_r = [randint(1, ord_-1) for _ in range(n)]\n",
    "    all_R = [r*G for r in all_r]\n",
    "    sigma = []\n",
    "    for _ in range(n):\n",
    "        sigma.append(multi_schnorr_sign(all_R, all_X, all_x[_], \\\n",
    "                                  all_r[_], msg, _))\n",
    "    sig = Agg(sigma)\n",
    "    pk = KAgg(all_X)\n",
    "    \n",
    "    print(multi_schnorr_verify(sig, pk, msg))\n",
    "    \n",
    "\n",
    "if __name__ == '__main__':\n",
    "    test()\n",
    "        \n",
    "    \n",
    "    \n",
    "    \n",
    "    "
   ]
  },
  {
   "cell_type": "code",
   "execution_count": null,
   "id": "45da3e66",
   "metadata": {},
   "outputs": [],
   "source": []
  }
 ],
 "metadata": {
  "kernelspec": {
   "display_name": "SageMath 10.0",
   "language": "sage",
   "name": "sagemath-10.0"
  },
  "language_info": {
   "codemirror_mode": {
    "name": "ipython",
    "version": 3
   },
   "file_extension": ".py",
   "mimetype": "text/x-python",
   "name": "python",
   "nbconvert_exporter": "python",
   "pygments_lexer": "ipython3",
   "version": "3.11.1"
  }
 },
 "nbformat": 4,
 "nbformat_minor": 5
}
