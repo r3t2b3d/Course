{
 "cells": [
  {
   "cell_type": "code",
   "execution_count": 11,
   "id": "4de39473",
   "metadata": {},
   "outputs": [
    {
     "name": "stdout",
     "output_type": "stream",
     "text": [
      "$50+$100 :\n",
      "d26324f04d06e57583643e39960898ec732da9cb8d1e6004d793eb6e75e3cefff3d46b5c83bfa6960382cba245af15e82dc1d902d9546dc857c94d53be226d9d\n",
      "$100+$20 :\n",
      "53a985c833fc09cde2a26e89fd5fe56c8a29ad74d29543c7442f91aaa52c69de7f9e0c010942de43394030736233cb275f3452ed326175a3670d44cdea4d82f7\n",
      "$100 :\n",
      "1abf798b5d1087e7e1ad4f54402a443532d3c5ccacd3d6add948e497294123a3485b7a8fac66059ea9e1815ef8d29acf61cd21529f536a7baf18c32c\n",
      "$50+$100+$20 :\n",
      "c019832fb9ea46ec484f9f9b5f9c78e2475fea5c84764a7aa7706006ed88d6cd79589defde30f1a920f5646ae7fa9aee4e756841b4e45016ea3abfa93a4a7116\n",
      "($50+$100)+($100+$20)-$100 :\n",
      "c019832fb9ea46ec484f9f9b5f9c78e2475fea5c84764a7aa7706006ed88d6cd79589defde30f1a920f5646ae7fa9aee4e756841b4e45016ea3abfa93a4a7116\n"
     ]
    }
   ],
   "source": [
    "from Crypto.Util.number import *\n",
    "from hashlib import sha224\n",
    "\n",
    "p = 0xFFFFFFFFFFFFFFFFFFFFFFFFFFFFFFFFFFFFFFFFFFFFFFFFFFFFFFFEFFFFFC2F\n",
    "a = 0x0000000000000000000000000000000000000000000000000000000000000000\n",
    "b = 0x0000000000000000000000000000000000000000000000000000000000000007\n",
    "Gx = 0x79BE667EF9DCBBAC55A06295CE870B07029BFCDB2DCE28D959F2815B16F81798\n",
    "Gy = 0x483ADA7726A3C4655DA4FBFC0E1108A8FD17B448A68554199C47D08FFB10D4B8\n",
    "ord_ = 0xFFFFFFFFFFFFFFFFFFFFFFFFFFFFFFFEBAAEDCE6AF48A03BBFD25E8CD0364141\n",
    "\n",
    "F = GF(p)\n",
    "E = EllipticCurve(F, [a, b])\n",
    "G = E(Gx, Gy)\n",
    "\n",
    "\n",
    "def byte2p(data):\n",
    "    x = int(sha224(data).hexdigest(), 16)\n",
    "    while True:\n",
    "        try:\n",
    "            P = E.lift_x(F(x))\n",
    "            return P\n",
    "        except Exception as e:\n",
    "            x = int(sha224(long_to_bytes(x)).hexdigest(), 16)\n",
    "            continue\n",
    "\n",
    "            \n",
    "def ECMH(data):\n",
    "    return byte2p(data)\n",
    "\n",
    "\n",
    "def show(P):\n",
    "    coor = P.xy()\n",
    "    print(hex(coor[0])[2:]+hex(coor[1])[2:])\n",
    "\n",
    "\n",
    "money1 = b'$50'\n",
    "money2 = b'$100'\n",
    "money3 = b'$20'\n",
    "\n",
    "commit1 = ECMH(money1)+ECMH(money2)\n",
    "commit2 = ECMH(money2)+ECMH(money3)\n",
    "commit3 = ECMH(money2)\n",
    "commit4 = ECMH(money1)+ECMH(money2)+ECMH(money3)\n",
    "\n",
    "print(\"$50+$100 :\")\n",
    "show(commit1)\n",
    "print(\"$100+$20 :\")\n",
    "show(commit2)\n",
    "print(\"$100 :\")\n",
    "show(commit3)\n",
    "print(\"$50+$100+$20 :\")\n",
    "show(commit4)\n",
    "print(\"($50+$100)+($100+$20)-$100 :\")\n",
    "show(commit1+commit2-commit3)\n",
    "        "
   ]
  },
  {
   "cell_type": "code",
   "execution_count": null,
   "id": "22c9c2c9",
   "metadata": {},
   "outputs": [],
   "source": []
  }
 ],
 "metadata": {
  "kernelspec": {
   "display_name": "SageMath 10.0",
   "language": "sage",
   "name": "sagemath-10.0"
  },
  "language_info": {
   "codemirror_mode": {
    "name": "ipython",
    "version": 3
   },
   "file_extension": ".py",
   "mimetype": "text/x-python",
   "name": "python",
   "nbconvert_exporter": "python",
   "pygments_lexer": "ipython3",
   "version": "3.11.1"
  }
 },
 "nbformat": 4,
 "nbformat_minor": 5
}
